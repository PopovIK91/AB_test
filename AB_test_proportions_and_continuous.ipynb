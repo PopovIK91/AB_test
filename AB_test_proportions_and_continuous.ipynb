{
  "nbformat": 4,
  "nbformat_minor": 0,
  "metadata": {
    "colab": {
      "name": "5-probability-and-statistics-ab-testing-proportions.ipynb",
      "provenance": [],
      "collapsed_sections": [],
      "toc_visible": true
    },
    "kernelspec": {
      "name": "python3",
      "display_name": "Python 3"
    },
    "language_info": {
      "name": "python"
    },
    "widgets": {
      "application/vnd.jupyter.widget-state+json": {}
    }
  },
  "cells": [
    {
      "cell_type": "markdown",
      "source": [
        "#Proportions"
      ],
      "metadata": {
        "id": "eDXbNep3p4To"
      }
    },
    {
      "cell_type": "code",
      "metadata": {
        "id": "XwOKkVbhXCwx"
      },
      "source": [
        "import matplotlib.pyplot as plt\n",
        "plt.style.use('dark_background')\n",
        "import pandas as pd\n",
        "import numpy as np"
      ],
      "execution_count": 4,
      "outputs": []
    },
    {
      "cell_type": "markdown",
      "source": [
        "https://www.evanmiller.org/ab-testing/sample-size.html"
      ],
      "metadata": {
        "id": "sBNbcTAOSkGL"
      }
    },
    {
      "cell_type": "code",
      "metadata": {
        "id": "TKE8IG_aUO1v"
      },
      "source": [
        "#Минимальный эффект\t\n",
        "mde = 0.05 \n",
        "#Базовая конверсия\t\n",
        "baseline = 0.2\n",
        "#Размер выборки по эвану миллеру \n",
        "sample_size = 1030\n",
        "#уровень значимости α\t\n",
        "alpha=0.05"
      ],
      "execution_count": 91,
      "outputs": []
    },
    {
      "cell_type": "markdown",
      "source": [
        "##Тестируем Z-TEST "
      ],
      "metadata": {
        "id": "PG4DNTEdFfXA"
      }
    },
    {
      "cell_type": "code",
      "metadata": {
        "id": "2DBvQmPxU4zO"
      },
      "source": [
        "from statsmodels.stats.proportion import proportions_ztest"
      ],
      "execution_count": 6,
      "outputs": []
    },
    {
      "cell_type": "code",
      "metadata": {
        "id": "MFw7pvo9WviL"
      },
      "source": [
        "from tqdm import tqdm"
      ],
      "execution_count": 7,
      "outputs": []
    },
    {
      "cell_type": "code",
      "source": [
        "#A/B тестирование, запускаем bootstrap, проводим 10000 экспериментов\n",
        "result = []\n",
        "for _ in tqdm(range(10000)):\n",
        "  #смоделируем бинарное распределение\n",
        "  a = np.random.binomial(1,baseline,size=sample_size)\n",
        "  b = np.random.binomial(1,baseline + mde,size=sample_size)\n",
        "  _, pval = proportions_ztest([a.sum(),b.sum()],[len(a),len(b)])\n",
        "  result.append(pval)"
      ],
      "metadata": {
        "colab": {
          "base_uri": "https://localhost:8080/"
        },
        "id": "ItQvBtqURsF6",
        "outputId": "b3b445fb-dffb-445d-a607-33a2defc24ae"
      },
      "execution_count": 43,
      "outputs": [
        {
          "output_type": "stream",
          "name": "stderr",
          "text": [
            "100%|██████████| 10000/10000 [00:02<00:00, 4722.17it/s]\n"
          ]
        }
      ]
    },
    {
      "cell_type": "code",
      "metadata": {
        "id": "QfygWXg9WNho",
        "colab": {
          "base_uri": "https://localhost:8080/"
        },
        "outputId": "3458aff7-2dc6-4e95-8848-dfd5514e8b5d"
      },
      "source": [
        "#значение p-value \n",
        "t_z_test = pd.Series(result)\n",
        "t_z_test[:10]"
      ],
      "execution_count": 44,
      "outputs": [
        {
          "output_type": "execute_result",
          "data": {
            "text/plain": [
              "0    3.095457e-03\n",
              "1    5.760144e-02\n",
              "2    2.232336e-02\n",
              "3    2.929625e-01\n",
              "4    9.708335e-04\n",
              "5    3.135639e-05\n",
              "6    3.494351e-04\n",
              "7    6.330195e-03\n",
              "8    4.467026e-07\n",
              "9    8.429282e-03\n",
              "dtype: float64"
            ]
          },
          "metadata": {},
          "execution_count": 44
        }
      ]
    },
    {
      "cell_type": "code",
      "metadata": {
        "colab": {
          "base_uri": "https://localhost:8080/",
          "height": 282
        },
        "id": "hrrdSUQtW2XI",
        "outputId": "4d649845-f550-4297-cc1e-e2a935d9e1db"
      },
      "source": [
        "#распределение значений p-value\n",
        "t_z_test.hist()"
      ],
      "execution_count": 45,
      "outputs": [
        {
          "output_type": "execute_result",
          "data": {
            "text/plain": [
              "<matplotlib.axes._subplots.AxesSubplot at 0x7f03e8c43a90>"
            ]
          },
          "metadata": {},
          "execution_count": 45
        },
        {
          "output_type": "display_data",
          "data": {
            "text/plain": [
              "<Figure size 432x288 with 1 Axes>"
            ],
            "image/png": "[encoded data removed]"
          },
          "metadata": {}
        }
      ]
    },
    {
      "cell_type": "markdown",
      "source": [
        "Мощность, которую задавали у Эвана Миллера совпадает "
      ],
      "metadata": {
        "id": "vfHtNzCDFkY5"
      }
    },
    {
      "cell_type": "code",
      "metadata": {
        "colab": {
          "base_uri": "https://localhost:8080/"
        },
        "id": "pyECPwSWW-mG",
        "outputId": "c30fcb0d-c3ca-49c7-ca4a-b4f4f02d7474"
      },
      "source": [
        "(t_z_test< 0.05).mean()"
      ],
      "execution_count": 46,
      "outputs": [
        {
          "output_type": "execute_result",
          "data": {
            "text/plain": [
              "0.7834"
            ]
          },
          "metadata": {},
          "execution_count": 46
        }
      ]
    },
    {
      "cell_type": "code",
      "source": [
        "#A/A тестирование\n",
        "result = []\n",
        "for _ in tqdm(range(10000)):\n",
        "  a = np.random.binomial(1,baseline,size=sample_size)\n",
        "  b = np.random.binomial(1,baseline,size=sample_size)\n",
        "  _, pval = proportions_ztest([a.sum(),b.sum()],[len(a),len(b)])\n",
        "  result.append(pval)"
      ],
      "metadata": {
        "colab": {
          "base_uri": "https://localhost:8080/"
        },
        "id": "Ycj1UngfR8UG",
        "outputId": "4415533d-5719-4335-994a-73e35ae058a9"
      },
      "execution_count": 64,
      "outputs": [
        {
          "output_type": "stream",
          "name": "stderr",
          "text": [
            "100%|██████████| 10000/10000 [00:03<00:00, 2882.01it/s]\n"
          ]
        }
      ]
    },
    {
      "cell_type": "code",
      "source": [
        "t_z_test = pd.Series(result)\n",
        "t_z_test[:10]"
      ],
      "metadata": {
        "colab": {
          "base_uri": "https://localhost:8080/"
        },
        "id": "NaTHa6a_R_ti",
        "outputId": "da2574b9-5d85-4325-d024-3224e2fe07af"
      },
      "execution_count": 49,
      "outputs": [
        {
          "output_type": "execute_result",
          "data": {
            "text/plain": [
              "0    0.692956\n",
              "1    0.199183\n",
              "2    0.622895\n",
              "3    0.705516\n",
              "4    0.298348\n",
              "5    0.868394\n",
              "6    0.003781\n",
              "7    0.825928\n",
              "8    0.415704\n",
              "9    0.441452\n",
              "dtype: float64"
            ]
          },
          "metadata": {},
          "execution_count": 49
        }
      ]
    },
    {
      "cell_type": "code",
      "source": [
        "#распределение значений уровня значимости\n",
        "t_z_test.hist()"
      ],
      "metadata": {
        "colab": {
          "base_uri": "https://localhost:8080/",
          "height": 282
        },
        "id": "tS-reEDmSGg-",
        "outputId": "f81ff914-fe8d-4ef2-d842-c46512d99bef"
      },
      "execution_count": 50,
      "outputs": [
        {
          "output_type": "execute_result",
          "data": {
            "text/plain": [
              "<matplotlib.axes._subplots.AxesSubplot at 0x7f03e8ae2390>"
            ]
          },
          "metadata": {},
          "execution_count": 50
        },
        {
          "output_type": "display_data",
          "data": {
            "text/plain": [
              "<Figure size 432x288 with 1 Axes>"
            ],
            "image/png": "[encoded data removed]"
          },
          "metadata": {}
        }
      ]
    },
    {
      "cell_type": "markdown",
      "source": [
        "Уровень значимости alpha совпадает"
      ],
      "metadata": {
        "id": "yUmkpJYtSw2S"
      }
    },
    {
      "cell_type": "code",
      "source": [
        "(t_z_test< 0.05).mean()"
      ],
      "metadata": {
        "colab": {
          "base_uri": "https://localhost:8080/"
        },
        "id": "NaOvrO_pSM9S",
        "outputId": "dbfb6ed0-c48a-45b3-9622-bd96977d4bd4"
      },
      "execution_count": 51,
      "outputs": [
        {
          "output_type": "execute_result",
          "data": {
            "text/plain": [
              "0.0505"
            ]
          },
          "metadata": {},
          "execution_count": 51
        }
      ]
    },
    {
      "cell_type": "markdown",
      "source": [
        "##Тестируем T-TEST \n",
        "\n",
        "\n",
        "\n"
      ],
      "metadata": {
        "id": "vQ9Qb64QFtjJ"
      }
    },
    {
      "cell_type": "code",
      "metadata": {
        "id": "b-Q8mEx1XlB9"
      },
      "source": [
        "from scipy.stats import ttest_ind, mannwhitneyu"
      ],
      "execution_count": 52,
      "outputs": []
    },
    {
      "cell_type": "code",
      "metadata": {
        "colab": {
          "base_uri": "https://localhost:8080/"
        },
        "id": "ACFrxT5PXJDV",
        "outputId": "bb7c3831-8d2c-4eee-ac20-433b2eef2217"
      },
      "source": [
        "#A/B тестирование\n",
        "result = []\n",
        "for _ in tqdm(range(10000)): \n",
        "  a = np.random.binomial(1,baseline,size=sample_size)\n",
        "  b = np.random.binomial(1,baseline + mde,size=sample_size)\n",
        "  _, pval = ttest_ind(a,b,equal_var=False)\n",
        "  result.append(pval)"
      ],
      "execution_count": 53,
      "outputs": [
        {
          "output_type": "stream",
          "name": "stderr",
          "text": [
            "100%|██████████| 10000/10000 [00:03<00:00, 2777.14it/s]\n"
          ]
        }
      ]
    },
    {
      "cell_type": "code",
      "metadata": {
        "id": "YQbJQn9EXuGa"
      },
      "source": [
        "#распределение значений p-value\n",
        "t_t_test = pd.Series(result)"
      ],
      "execution_count": 56,
      "outputs": []
    },
    {
      "cell_type": "markdown",
      "source": [
        "Мощность, которую задавали у Эвана Миллера совпадает "
      ],
      "metadata": {
        "id": "L7Od48emWawo"
      }
    },
    {
      "cell_type": "code",
      "metadata": {
        "colab": {
          "base_uri": "https://localhost:8080/"
        },
        "id": "k2dl9MF7XwuC",
        "outputId": "84984a44-b9a7-4646-8c30-67dee7e74a69"
      },
      "source": [
        "(t_t_test < 0.05).mean()"
      ],
      "execution_count": 60,
      "outputs": [
        {
          "output_type": "execute_result",
          "data": {
            "text/plain": [
              "0.7708"
            ]
          },
          "metadata": {},
          "execution_count": 60
        }
      ]
    },
    {
      "cell_type": "code",
      "source": [
        "#A/A тестирование\n",
        "result = []\n",
        "for _ in tqdm(range(10000)): \n",
        "  a = np.random.binomial(1,baseline,size=sample_size)\n",
        "  b = np.random.binomial(1,baseline,size=sample_size)\n",
        "  _, pval = ttest_ind(a,b,equal_var=False)\n",
        "  result.append(pval)"
      ],
      "metadata": {
        "colab": {
          "base_uri": "https://localhost:8080/"
        },
        "id": "Xzg9AuFxXAUj",
        "outputId": "41e2c34c-40c7-41b0-dfde-7b11eea5a268"
      },
      "execution_count": 61,
      "outputs": [
        {
          "output_type": "stream",
          "name": "stderr",
          "text": [
            "100%|██████████| 10000/10000 [00:04<00:00, 2347.34it/s]\n"
          ]
        }
      ]
    },
    {
      "cell_type": "code",
      "source": [
        "#распределение значений уровня значимости alpha\n",
        "t_t_test = pd.Series(result)"
      ],
      "metadata": {
        "id": "Jy7lRpWXXH78"
      },
      "execution_count": 62,
      "outputs": []
    },
    {
      "cell_type": "markdown",
      "source": [
        "значение уровня значимости, которую задавали"
      ],
      "metadata": {
        "id": "wc2zm1RYXU6P"
      }
    },
    {
      "cell_type": "code",
      "source": [
        "(t_t_test < 0.05).mean()"
      ],
      "metadata": {
        "colab": {
          "base_uri": "https://localhost:8080/"
        },
        "id": "S6dva6bRXPEn",
        "outputId": "80f54774-b668-404b-d372-6b53d176c450"
      },
      "execution_count": 63,
      "outputs": [
        {
          "output_type": "execute_result",
          "data": {
            "text/plain": [
              "0.0483"
            ]
          },
          "metadata": {},
          "execution_count": 63
        }
      ]
    },
    {
      "cell_type": "markdown",
      "source": [
        "##Тестируем Mann–Whitney U test"
      ],
      "metadata": {
        "id": "PB63srYoXl10"
      }
    },
    {
      "cell_type": "code",
      "source": [
        "from scipy.stats import mannwhitneyu"
      ],
      "metadata": {
        "id": "eEnxXpGPYaS_"
      },
      "execution_count": 65,
      "outputs": []
    },
    {
      "cell_type": "code",
      "metadata": {
        "colab": {
          "base_uri": "https://localhost:8080/"
        },
        "id": "Ngej3j_SXy63",
        "outputId": "263b91f7-db7e-4e0d-c7c3-84c1b2c857ff"
      },
      "source": [
        "#A/B тестирование\n",
        "result = []\n",
        "for _ in tqdm(range(10000)):\n",
        "  a = np.random.binomial(1,baseline,size=sample_size)\n",
        "  b = np.random.binomial(1,baseline + mde,size=sample_size)\n",
        "  _, pval = mannwhitneyu(a,b)\n",
        "  result.append(pval)"
      ],
      "execution_count": 66,
      "outputs": [
        {
          "output_type": "stream",
          "name": "stderr",
          "text": [
            "100%|██████████| 10000/10000 [00:15<00:00, 636.63it/s]\n"
          ]
        }
      ]
    },
    {
      "cell_type": "code",
      "metadata": {
        "id": "LlgP4hs9YE67"
      },
      "source": [
        "t_m_w = pd.Series(result)"
      ],
      "execution_count": 67,
      "outputs": []
    },
    {
      "cell_type": "markdown",
      "source": [
        "Мощность, которую задавали у Эвана Миллера совпадает "
      ],
      "metadata": {
        "id": "MGAjYxcPWPgs"
      }
    },
    {
      "cell_type": "code",
      "metadata": {
        "colab": {
          "base_uri": "https://localhost:8080/"
        },
        "id": "lPFhXjP0YE67",
        "outputId": "25743369-eaa9-470f-d59f-bf190ee3ef09"
      },
      "source": [
        "(t < 0.05).mean()"
      ],
      "execution_count": 68,
      "outputs": [
        {
          "output_type": "execute_result",
          "data": {
            "text/plain": [
              "0.7824"
            ]
          },
          "metadata": {},
          "execution_count": 68
        }
      ]
    },
    {
      "cell_type": "code",
      "metadata": {
        "colab": {
          "base_uri": "https://localhost:8080/"
        },
        "id": "c-xKZtmJYCxa",
        "outputId": "b5dc81b0-47df-4ee5-a361-00424045cc8d"
      },
      "source": [
        "#A-A тестирование\n",
        "result = []\n",
        "for _ in tqdm(range(10000)):\n",
        "  a = np.random.binomial(1,baseline,size=sample_size)\n",
        "  b = np.random.binomial(1,baseline,size=sample_size)\n",
        "  _, pval = mannwhitneyu(a,b)\n",
        "  result.append(pval)"
      ],
      "execution_count": 69,
      "outputs": [
        {
          "output_type": "stream",
          "name": "stderr",
          "text": [
            "100%|██████████| 10000/10000 [00:19<00:00, 511.05it/s]\n"
          ]
        }
      ]
    },
    {
      "cell_type": "code",
      "metadata": {
        "id": "2aP9BXUTZF54"
      },
      "source": [
        "t_m_u = pd.Series(result)"
      ],
      "execution_count": 70,
      "outputs": []
    },
    {
      "cell_type": "code",
      "metadata": {
        "colab": {
          "base_uri": "https://localhost:8080/",
          "height": 282
        },
        "id": "xh7ylFeQZMfh",
        "outputId": "58d26c25-1ec1-4f3f-bd5d-4285594828df"
      },
      "source": [
        "t_m_u.hist()"
      ],
      "execution_count": 71,
      "outputs": [
        {
          "output_type": "execute_result",
          "data": {
            "text/plain": [
              "<matplotlib.axes._subplots.AxesSubplot at 0x7f03e8a7d1d0>"
            ]
          },
          "metadata": {},
          "execution_count": 71
        },
        {
          "output_type": "display_data",
          "data": {
            "text/plain": [
              "<Figure size 432x288 with 1 Axes>"
            ],
            "image/png": "[encoded data removed]"
          },
          "metadata": {}
        }
      ]
    },
    {
      "cell_type": "code",
      "metadata": {
        "id": "h_j4zJwbZM9c"
      },
      "source": [
        "import seaborn as sns"
      ],
      "execution_count": 23,
      "outputs": []
    },
    {
      "cell_type": "code",
      "metadata": {
        "colab": {
          "base_uri": "https://localhost:8080/",
          "height": 286
        },
        "id": "asHPe2EpZSQH",
        "outputId": "a80a8b3f-ee45-4290-fb1d-fa051ca6f6df"
      },
      "source": [
        "sns.ecdfplot(t)"
      ],
      "execution_count": 24,
      "outputs": [
        {
          "output_type": "execute_result",
          "data": {
            "text/plain": [
              "<matplotlib.axes._subplots.AxesSubplot at 0x7f9b6c4438d0>"
            ]
          },
          "metadata": {},
          "execution_count": 24
        },
        {
          "output_type": "display_data",
          "data": {
            "text/plain": [
              "<Figure size 432x288 with 1 Axes>"
            ],
            "image/png": "[encoded data removed]"
          },
          "metadata": {}
        }
      ]
    },
    {
      "cell_type": "markdown",
      "source": [
        "Уровень значимости, которую задавали"
      ],
      "metadata": {
        "id": "aSnIp0c0Y-aY"
      }
    },
    {
      "cell_type": "code",
      "metadata": {
        "colab": {
          "base_uri": "https://localhost:8080/"
        },
        "id": "noq_Bl1YZUjf",
        "outputId": "6dbcc7f4-c3c5-47cc-efce-3f86b666aa45"
      },
      "source": [
        "(t_m_u < 0.05).mean()"
      ],
      "execution_count": 72,
      "outputs": [
        {
          "output_type": "execute_result",
          "data": {
            "text/plain": [
              "0.0518"
            ]
          },
          "metadata": {},
          "execution_count": 72
        }
      ]
    },
    {
      "cell_type": "markdown",
      "metadata": {
        "id": "MK0wPh99Z17n"
      },
      "source": [
        "## Определение размеров выборок в питоне"
      ]
    },
    {
      "cell_type": "code",
      "metadata": {
        "id": "GpjFHPBCcmzJ"
      },
      "source": [
        "#забиваем параметры, которые задавали у Эвана Миллера\n",
        "import statsmodels.stats.api as sms\n",
        "es = sms.proportion_effectsize(0.20, 0.25)\n",
        "sample_size = round(sms.NormalIndPower().solve_power(es, power=0.80, alpha=0.05, ratio=1))"
      ],
      "execution_count": 73,
      "outputs": []
    },
    {
      "cell_type": "code",
      "metadata": {
        "colab": {
          "base_uri": "https://localhost:8080/"
        },
        "id": "GQCElcwgdTLP",
        "outputId": "d11947ca-801b-4e30-afd8-8e25dfd8fabd"
      },
      "source": [
        "#и вот что получается\n",
        "sample_size"
      ],
      "execution_count": 75,
      "outputs": [
        {
          "output_type": "execute_result",
          "data": {
            "text/plain": [
              "1092"
            ]
          },
          "metadata": {},
          "execution_count": 75
        }
      ]
    },
    {
      "cell_type": "code",
      "metadata": {
        "colab": {
          "base_uri": "https://localhost:8080/"
        },
        "id": "hPjQ-ba7c2gs",
        "outputId": "e625a007-2891-4fef-ca16-e78fd5e9b126"
      },
      "source": [
        "#по этому размеру выборки проводим z-test\n",
        "result = []\n",
        "for _ in tqdm(range(10000)):\n",
        "  a = np.random.binomial(1,baseline,size=sample_size)\n",
        "  b = np.random.binomial(1,baseline + mde,size=sample_size)\n",
        "  _, pval = proportions_ztest([a.sum(),b.sum()],[len(a),len(b)])\n",
        "  result.append(pval)"
      ],
      "execution_count": 78,
      "outputs": [
        {
          "output_type": "stream",
          "name": "stderr",
          "text": [
            "100%|██████████| 10000/10000 [00:02<00:00, 4678.91it/s]\n"
          ]
        }
      ]
    },
    {
      "cell_type": "code",
      "metadata": {
        "id": "nnK3P1lJdZSg"
      },
      "source": [
        "t = pd.Series(result)"
      ],
      "execution_count": 79,
      "outputs": []
    },
    {
      "cell_type": "code",
      "metadata": {
        "colab": {
          "base_uri": "https://localhost:8080/"
        },
        "id": "6tBSnZykdZSh",
        "outputId": "c2e40984-5c38-4470-e304-dc194a0af291"
      },
      "source": [
        "#мощность пуля в пулю\n",
        "(t < 0.05).mean() "
      ],
      "execution_count": 80,
      "outputs": [
        {
          "output_type": "execute_result",
          "data": {
            "text/plain": [
              "0.8024"
            ]
          },
          "metadata": {},
          "execution_count": 80
        }
      ]
    },
    {
      "cell_type": "markdown",
      "metadata": {
        "id": "w_yiio3NdhTF"
      },
      "source": [
        "Посчитаем размеры для неравных выборок. Берем отношение 1/3."
      ]
    },
    {
      "cell_type": "code",
      "metadata": {
        "id": "hGc5GUiJdaAt"
      },
      "source": [
        "import statsmodels.stats.api as sms\n",
        "es = sms.proportion_effectsize(0.20, 0.25)\n",
        "sample_size1 = round(sms.NormalIndPower().solve_power(es, power=0.80, alpha=0.05, ratio=1/3))"
      ],
      "execution_count": 36,
      "outputs": []
    },
    {
      "cell_type": "code",
      "metadata": {
        "colab": {
          "base_uri": "https://localhost:8080/"
        },
        "id": "HZhbFMWhdnP0",
        "outputId": "108c8cec-a41c-4692-c87e-63c7df9afe42"
      },
      "source": [
        "sample_size1"
      ],
      "execution_count": 37,
      "outputs": [
        {
          "output_type": "execute_result",
          "data": {
            "text/plain": [
              "2184"
            ]
          },
          "metadata": {},
          "execution_count": 37
        }
      ]
    },
    {
      "cell_type": "code",
      "metadata": {
        "id": "SjvphvlgdoE9"
      },
      "source": [
        "sample_size2 = round(sample_size1 * 1/3)"
      ],
      "execution_count": 38,
      "outputs": []
    },
    {
      "cell_type": "code",
      "metadata": {
        "colab": {
          "base_uri": "https://localhost:8080/"
        },
        "id": "RtSuHjGTdrWT",
        "outputId": "a483d9cc-14b8-4475-8a72-ffc64ee337d3"
      },
      "source": [
        "sample_size2"
      ],
      "execution_count": 39,
      "outputs": [
        {
          "output_type": "execute_result",
          "data": {
            "text/plain": [
              "728"
            ]
          },
          "metadata": {},
          "execution_count": 39
        }
      ]
    },
    {
      "cell_type": "code",
      "metadata": {
        "colab": {
          "base_uri": "https://localhost:8080/"
        },
        "id": "OOIzaG5Ydx-W",
        "outputId": "2d2ae69c-fc4b-49d3-ba18-874b3674023d"
      },
      "source": [
        "result = []\n",
        "for _ in tqdm(range(10000)):\n",
        "  a = np.random.binomial(1,baseline,size=sample_size1)\n",
        "  b = np.random.binomial(1,baseline + mde,size=sample_size2)\n",
        "  _, pval = proportions_ztest([a.sum(),b.sum()],[len(a),len(b)])\n",
        "  result.append(pval)"
      ],
      "execution_count": 40,
      "outputs": [
        {
          "output_type": "stream",
          "name": "stderr",
          "text": [
            "100%|██████████| 10000/10000 [00:03<00:00, 3060.72it/s]\n"
          ]
        }
      ]
    },
    {
      "cell_type": "code",
      "metadata": {
        "id": "vLDOGtfbd5Jl"
      },
      "source": [
        "t = pd.Series(result)"
      ],
      "execution_count": 41,
      "outputs": []
    },
    {
      "cell_type": "code",
      "metadata": {
        "colab": {
          "base_uri": "https://localhost:8080/"
        },
        "id": "HL-bpk7Yd5Jl",
        "outputId": "0ae88467-a3e8-4ce1-9385-3b970c4733af"
      },
      "source": [
        "(t < 0.05).mean()"
      ],
      "execution_count": 42,
      "outputs": [
        {
          "output_type": "execute_result",
          "data": {
            "text/plain": [
              "0.8014"
            ]
          },
          "metadata": {},
          "execution_count": 42
        }
      ]
    },
    {
      "cell_type": "markdown",
      "source": [
        "Возьмем другой пример, конверсия 40%, хотим задетектить разницу в 8%"
      ],
      "metadata": {
        "id": "eOOqLyF5bn5D"
      }
    },
    {
      "cell_type": "code",
      "metadata": {
        "colab": {
          "base_uri": "https://localhost:8080/"
        },
        "id": "1UyHtGznebSd",
        "outputId": "cced75fd-b49c-4474-9c84-79ab87ff7e44"
      },
      "source": [
        "#размер выборки\n",
        "import statsmodels.stats.api as sms\n",
        "es = sms.proportion_effectsize(0.40, 0.48)\n",
        "sms.NormalIndPower().solve_power(es, power=0.80, alpha=0.05, ratio=1)"
      ],
      "execution_count": 87,
      "outputs": [
        {
          "output_type": "execute_result",
          "data": {
            "text/plain": [
              "602.9946935760591"
            ]
          },
          "metadata": {},
          "execution_count": 87
        }
      ]
    },
    {
      "cell_type": "code",
      "metadata": {
        "colab": {
          "base_uri": "https://localhost:8080/"
        },
        "id": "ITUC2EdegQa3",
        "outputId": "5bfa303d-d9e0-42bf-a2cf-262c74d4f5b1"
      },
      "source": [
        "sample_size = 602\n",
        "baseline = 0.4\n",
        "mde = 0.08\n",
        "result = []\n",
        "for _ in tqdm(range(1000)):\n",
        "  a = np.random.binomial(1,baseline,size=sample_size)\n",
        "  b = np.random.binomial(1,baseline + mde,size=sample_size)\n",
        "  _, pval = proportions_ztest([a.sum(),b.sum()],[len(a),len(b)])\n",
        "  result.append(pval)"
      ],
      "execution_count": 88,
      "outputs": [
        {
          "output_type": "stream",
          "name": "stderr",
          "text": [
            "100%|██████████| 1000/1000 [00:00<00:00, 5499.39it/s]\n"
          ]
        }
      ]
    },
    {
      "cell_type": "code",
      "source": [
        "t = pd.Series(result)"
      ],
      "metadata": {
        "id": "rLw7WPyYeG0f"
      },
      "execution_count": 89,
      "outputs": []
    },
    {
      "cell_type": "code",
      "source": [
        "#мощность, которую задавали\n",
        "(t < 0.05).mean()"
      ],
      "metadata": {
        "colab": {
          "base_uri": "https://localhost:8080/"
        },
        "id": "7wQue2XreIsj",
        "outputId": "831e485d-b586-4c0e-d9c4-fa9d331febb8"
      },
      "execution_count": 90,
      "outputs": [
        {
          "output_type": "execute_result",
          "data": {
            "text/plain": [
              "0.805"
            ]
          },
          "metadata": {},
          "execution_count": 90
        }
      ]
    },
    {
      "cell_type": "markdown",
      "source": [
        "#Continious"
      ],
      "metadata": {
        "id": "QQzwdai_qMrH"
      }
    },
    {
      "cell_type": "code",
      "metadata": {
        "colab": {
          "base_uri": "https://localhost:8080/",
          "height": 283
        },
        "outputId": "43d6cfd2-b258-4fb4-e4cf-ddf293cc41ef",
        "id": "gIwvFCT5qbiG"
      },
      "source": [
        "#контрольная выборка с средним значением 10, стандартное отклонение 3\n",
        "pd.Series(np.random.normal(10,3,size=1000)).hist()"
      ],
      "execution_count": null,
      "outputs": [
        {
          "output_type": "execute_result",
          "data": {
            "text/plain": [
              "<matplotlib.axes._subplots.AxesSubplot at 0x7ffa8cc02fd0>"
            ]
          },
          "metadata": {},
          "execution_count": 9
        },
        {
          "output_type": "display_data",
          "data": {
            "image/png": "[encoded data removed]",
            "text/plain": [
              "<Figure size 432x288 with 1 Axes>"
            ]
          },
          "metadata": {}
        }
      ]
    },
    {
      "cell_type": "code",
      "metadata": {
        "colab": {
          "base_uri": "https://localhost:8080/",
          "height": 282
        },
        "outputId": "4b821de4-ec19-4301-d7b8-3c22496665d7",
        "id": "RS3O5OoHqbiI"
      },
      "source": [
        "#тестовая выборка с средним значением 12, стандартное отклонение 3\n",
        "pd.Series(np.random.normal(12,3,size=1000)).hist()"
      ],
      "execution_count": null,
      "outputs": [
        {
          "output_type": "execute_result",
          "data": {
            "text/plain": [
              "<matplotlib.axes._subplots.AxesSubplot at 0x7fd7a34a2dd0>"
            ]
          },
          "metadata": {},
          "execution_count": 4
        },
        {
          "output_type": "display_data",
          "data": {
            "text/plain": [
              "<Figure size 432x288 with 1 Axes>"
            ],
            "image/png": "[encoded data removed]"
          },
          "metadata": {}
        }
      ]
    },
    {
      "cell_type": "code",
      "metadata": {
        "id": "PTel4rz0qbiI"
      },
      "source": [
        "from scipy.stats import ttest_ind"
      ],
      "execution_count": null,
      "outputs": []
    },
    {
      "cell_type": "code",
      "metadata": {
        "id": "yuk6oNFoqbiJ"
      },
      "source": [
        "from tqdm import tqdm"
      ],
      "execution_count": null,
      "outputs": []
    },
    {
      "cell_type": "markdown",
      "source": [
        "Определение размера выборки"
      ],
      "metadata": {
        "id": "LnlKwjceqbiJ"
      }
    },
    {
      "cell_type": "code",
      "source": [
        "baseline = 10\n",
        "mde = 2"
      ],
      "metadata": {
        "id": "69P_xFz6qbiK"
      },
      "execution_count": null,
      "outputs": []
    },
    {
      "cell_type": "code",
      "metadata": {
        "id": "50-_a6F_qbiK"
      },
      "source": [
        "import statsmodels.stats.api as sms"
      ],
      "execution_count": null,
      "outputs": []
    },
    {
      "cell_type": "code",
      "metadata": {
        "id": "2mq4-2J_qbiK"
      },
      "source": [
        "sample = pd.Series(np.random.normal(10,3,size=1000))"
      ],
      "execution_count": null,
      "outputs": []
    },
    {
      "cell_type": "code",
      "metadata": {
        "colab": {
          "base_uri": "https://localhost:8080/"
        },
        "outputId": "8caaa354-cff3-4a8f-8b51-774acef3b489",
        "id": "89tNiNsVqbiL"
      },
      "source": [
        "sample.std()"
      ],
      "execution_count": null,
      "outputs": [
        {
          "output_type": "execute_result",
          "data": {
            "text/plain": [
              "2.962230201666108"
            ]
          },
          "metadata": {},
          "execution_count": 15
        }
      ]
    },
    {
      "cell_type": "code",
      "metadata": {
        "id": "buz1reB1qbiL"
      },
      "source": [
        "es = ((baseline+mde) - baseline) / sample.std()"
      ],
      "execution_count": null,
      "outputs": []
    },
    {
      "cell_type": "code",
      "metadata": {
        "colab": {
          "base_uri": "https://localhost:8080/"
        },
        "outputId": "379bd16b-2406-48d2-d2d7-59e7873eefb0",
        "id": "eEmgmtmxqbiL"
      },
      "source": [
        "#размер выборки\n",
        "sms.TTestIndPower().solve_power(es, power=0.80, alpha=0.05, ratio=1)"
      ],
      "execution_count": null,
      "outputs": [
        {
          "output_type": "execute_result",
          "data": {
            "text/plain": [
              "36.1662388430244"
            ]
          },
          "metadata": {},
          "execution_count": 25
        }
      ]
    },
    {
      "cell_type": "code",
      "metadata": {
        "colab": {
          "base_uri": "https://localhost:8080/"
        },
        "outputId": "4733b9d1-eaf1-4c8e-cdaf-0d5aa2774787",
        "id": "9bVFLniRqbiM"
      },
      "source": [
        "#запускаем t-test\n",
        "result = []\n",
        "n = 10000\n",
        "sample_size = 36\n",
        "for _ in tqdm(range(n)):\n",
        "  a = np.random.normal(baseline,3,size=sample_size)\n",
        "  b = np.random.normal(baseline + mde,3,size=sample_size)\n",
        "  _, pval = ttest_ind(a,b,equal_var=False)\n",
        "  result.append(pval)"
      ],
      "execution_count": null,
      "outputs": [
        {
          "output_type": "stream",
          "name": "stderr",
          "text": [
            "100%|██████████| 10000/10000 [00:02<00:00, 4338.68it/s]\n"
          ]
        }
      ]
    },
    {
      "cell_type": "code",
      "metadata": {
        "id": "16qORF35qbiM"
      },
      "source": [
        "t = pd.Series(result)"
      ],
      "execution_count": null,
      "outputs": []
    },
    {
      "cell_type": "code",
      "metadata": {
        "colab": {
          "base_uri": "https://localhost:8080/"
        },
        "outputId": "c9890e51-afc6-43d3-b317-3af95bbeea97",
        "id": "HGMlovX-qbiN"
      },
      "source": [
        "#мощность 80%\n",
        "(t < 0.05).mean()"
      ],
      "execution_count": null,
      "outputs": [
        {
          "output_type": "execute_result",
          "data": {
            "text/plain": [
              "0.7964"
            ]
          },
          "metadata": {},
          "execution_count": 37
        }
      ]
    },
    {
      "cell_type": "markdown",
      "metadata": {
        "id": "w8F8be81qbiN"
      },
      "source": [
        "Проверим как распределено выборочное среднее"
      ]
    },
    {
      "cell_type": "code",
      "metadata": {
        "id": "unVVr-bdqbiN"
      },
      "source": [
        "t = pd.Series([np.random.normal(10,3,size=36).mean() for _ in range(1000)])"
      ],
      "execution_count": null,
      "outputs": []
    },
    {
      "cell_type": "code",
      "metadata": {
        "colab": {
          "base_uri": "https://localhost:8080/",
          "height": 282
        },
        "outputId": "56338a56-0a26-43aa-f4f0-4328c916990e",
        "id": "WWhIit5nqbiO"
      },
      "source": [
        "t.hist()"
      ],
      "execution_count": null,
      "outputs": [
        {
          "output_type": "execute_result",
          "data": {
            "text/plain": [
              "<matplotlib.axes._subplots.AxesSubplot at 0x7fd7a2eece10>"
            ]
          },
          "metadata": {},
          "execution_count": 11
        },
        {
          "output_type": "display_data",
          "data": {
            "text/plain": [
              "<Figure size 432x288 with 1 Axes>"
            ],
            "image/png": "[encoded data removed]"
          },
          "metadata": {}
        }
      ]
    },
    {
      "cell_type": "code",
      "metadata": {
        "colab": {
          "base_uri": "https://localhost:8080/",
          "height": 295
        },
        "outputId": "4d3bbbcc-fb1d-405f-dd63-95005798b60b",
        "id": "4b_Dczj9qbiO"
      },
      "source": [
        "import pylab \n",
        "import scipy.stats as stats\n",
        "   \n",
        "stats.probplot(t, dist=\"norm\", plot=pylab)\n",
        "pylab.show()"
      ],
      "execution_count": null,
      "outputs": [
        {
          "output_type": "display_data",
          "data": {
            "text/plain": [
              "<Figure size 432x288 with 1 Axes>"
            ],
            "image/png": "[encoded data removed]"
          },
          "metadata": {}
        }
      ]
    },
    {
      "cell_type": "code",
      "metadata": {
        "id": "En_5m1o4qbiO"
      },
      "source": [
        "#для примера, выборка с длинным хвостом со средним значением 2\n",
        "t = pd.Series(np.random.pareto(2,size=100))"
      ],
      "execution_count": null,
      "outputs": []
    },
    {
      "cell_type": "code",
      "metadata": {
        "colab": {
          "base_uri": "https://localhost:8080/",
          "height": 283
        },
        "outputId": "5f26fbe7-2ad7-47fc-fce0-cba67c58774f",
        "id": "L9n4nRcZqbiP"
      },
      "source": [
        "t.hist()"
      ],
      "execution_count": null,
      "outputs": [
        {
          "output_type": "execute_result",
          "data": {
            "text/plain": [
              "<matplotlib.axes._subplots.AxesSubplot at 0x7ffa78bc7310>"
            ]
          },
          "metadata": {},
          "execution_count": 51
        },
        {
          "output_type": "display_data",
          "data": {
            "image/png": "[encoded data removed]",
            "text/plain": [
              "<Figure size 432x288 with 1 Axes>"
            ]
          },
          "metadata": {}
        }
      ]
    },
    {
      "cell_type": "code",
      "metadata": {
        "colab": {
          "base_uri": "https://localhost:8080/",
          "height": 295
        },
        "outputId": "e5c391e4-a919-4fb8-cc75-ebbba6543837",
        "id": "ddfiaLb9qbiP"
      },
      "source": [
        "#демонстрация графика для такой выборки\n",
        "stats.probplot(t, dist=\"norm\", plot=pylab)\n",
        "pylab.show()"
      ],
      "execution_count": null,
      "outputs": [
        {
          "output_type": "display_data",
          "data": {
            "image/png": "[encoded data removed]",
            "text/plain": [
              "<Figure size 432x288 with 1 Axes>"
            ]
          },
          "metadata": {}
        }
      ]
    },
    {
      "cell_type": "code",
      "metadata": {
        "colab": {
          "base_uri": "https://localhost:8080/",
          "height": 49,
          "referenced_widgets": [
            "5d2b5a2b90094aebaa2f74eb79ffca09",
            "1fb3b5a942cf48acb71b5482ccdd94e4",
            "9729de0500524d70ad5b5d1ed96559f2",
            "efb46b4033bd46379fe6809495dc5289",
            "fc6720762d0f4db284fa999a8bffdfdf",
            "7d13f9762e16416d9511bfc182e285a6",
            "0b4b195cb14b4a8dabfdebf96493cb48",
            "20edac76cf66405ca90d65b830a556ab",
            "3454481c503b4a7bbc6ff79f18a373b2",
            "363cb763c44c4e6581f4b84b1ae946bb",
            "3d811c3c909542f8859b429337c3b2e2"
          ]
        },
        "outputId": "895c2fd9-f843-4fa5-92b9-b874ccbb18a6",
        "id": "Yw8hsC4UqbiP"
      },
      "source": [
        "baseline = 10\n",
        "mde = 2\n",
        "result = []\n",
        "n = 10000\n",
        "sample_size = 36\n",
        "for _ in tqdm(range(n)):\n",
        "  a = np.random.normal(baseline,3,size=sample_size)\n",
        "  b = np.random.normal(baseline,3,size=sample_size)\n",
        "  _, pval = ttest_ind(a,b,equal_var=False)\n",
        "  result.append(pval)"
      ],
      "execution_count": null,
      "outputs": [
        {
          "output_type": "display_data",
          "data": {
            "application/vnd.jupyter.widget-view+json": {
              "model_id": "5d2b5a2b90094aebaa2f74eb79ffca09",
              "version_minor": 0,
              "version_major": 2
            },
            "text/plain": [
              "  0%|          | 0/10000 [00:00<?, ?it/s]"
            ]
          },
          "metadata": {}
        }
      ]
    },
    {
      "cell_type": "code",
      "metadata": {
        "id": "1k7cF6qKqbiQ"
      },
      "source": [
        "t = pd.Series(result)"
      ],
      "execution_count": null,
      "outputs": []
    },
    {
      "cell_type": "code",
      "metadata": {
        "colab": {
          "base_uri": "https://localhost:8080/",
          "height": 283
        },
        "outputId": "fda843c7-c828-40ad-f984-4d2c8217ecd2",
        "id": "-dDrAehfqbiQ"
      },
      "source": [
        "t.hist()"
      ],
      "execution_count": null,
      "outputs": [
        {
          "output_type": "execute_result",
          "data": {
            "text/plain": [
              "<matplotlib.axes._subplots.AxesSubplot at 0x7ffa78bca590>"
            ]
          },
          "metadata": {},
          "execution_count": 55
        },
        {
          "output_type": "display_data",
          "data": {
            "image/png": "[encoded data removed]",
            "text/plain": [
              "<Figure size 432x288 with 1 Axes>"
            ]
          },
          "metadata": {}
        }
      ]
    },
    {
      "cell_type": "code",
      "metadata": {
        "colab": {
          "base_uri": "https://localhost:8080/",
          "height": 295
        },
        "outputId": "7fdb0901-74d3-4bc9-b183-1be5396dccbb",
        "id": "6Od-q2IFqbiQ"
      },
      "source": [
        "stats.probplot(t, dist=\"uniform\", plot=pylab)\n",
        "pylab.show()"
      ],
      "execution_count": null,
      "outputs": [
        {
          "output_type": "display_data",
          "data": {
            "image/png": "[encoded data removed]",
            "text/plain": [
              "<Figure size 432x288 with 1 Axes>"
            ]
          },
          "metadata": {}
        }
      ]
    },
    {
      "cell_type": "code",
      "metadata": {
        "colab": {
          "base_uri": "https://localhost:8080/"
        },
        "outputId": "e04ed512-1d83-439b-9581-fa144153e822",
        "id": "OkDmAsG2qbiR"
      },
      "source": [
        "#уровень значимости\n",
        "(t < 0.05).mean()"
      ],
      "execution_count": null,
      "outputs": [
        {
          "output_type": "execute_result",
          "data": {
            "text/plain": [
              "0.0528"
            ]
          },
          "metadata": {},
          "execution_count": 58
        }
      ]
    },
    {
      "cell_type": "markdown",
      "metadata": {
        "id": "8f2_pGgNqbiR"
      },
      "source": [
        "Как проверить, что можно применять t test:  \n",
        "- выборочное среднее распределено нормально  \n",
        "- p-value для выборок из одного распределения имеет равномерное распределение \n"
      ]
    }
  ]
}